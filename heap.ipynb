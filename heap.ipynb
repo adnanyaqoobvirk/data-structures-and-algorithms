{
 "cells": [
  {
   "cell_type": "markdown",
   "metadata": {},
   "source": [
    "## Heap and Heap Sort"
   ]
  },
  {
   "cell_type": "code",
   "execution_count": 97,
   "metadata": {},
   "outputs": [],
   "source": [
    "from typing import List"
   ]
  },
  {
   "cell_type": "code",
   "execution_count": 98,
   "metadata": {},
   "outputs": [],
   "source": [
    "class MaxHeap:\n",
    "    def __init__(self, arr: List[int] = []):\n",
    "        self.arr = MaxHeap.heapify(arr)\n",
    "  \n",
    "    def add(self, v: int) -> None:\n",
    "        self.arr.append(v)\n",
    "        self.arr = MaxHeap.swim(self.arr, len(self.arr) - 1)\n",
    "    \n",
    "    def delete(self) -> int:\n",
    "        self.arr[0], self.arr[-1] = self.arr[-1], self.arr[0]\n",
    "        v = self.arr.pop()\n",
    "        self.arr = MaxHeap.sink(self.arr, 0)\n",
    "        return v\n",
    "    \n",
    "    def peak(self) -> int:\n",
    "        return self.arr[0]\n",
    "    \n",
    "    @staticmethod\n",
    "    def heapify(arr: List[int]) -> List[int]:\n",
    "        n = len(arr)\n",
    "        for i in range(n - 1, -1, -1):\n",
    "            arr = MaxHeap.sink(arr, i)\n",
    "        return arr\n",
    "    \n",
    "    @staticmethod\n",
    "    def sink(arr: List[int], i: int) -> List[int]:\n",
    "        n = len(arr)\n",
    "        left = i * 2 + 1\n",
    "        right = left + 1\n",
    "        \n",
    "        if right < n and arr[left] < arr[right] > arr[i]:\n",
    "            arr[i], arr[right] = arr[right], arr[i]\n",
    "            return MaxHeap.sink(arr, right)\n",
    "        \n",
    "        if left < n and arr[left] > arr[i]:\n",
    "            arr[i], arr[left] = arr[left], arr[i]\n",
    "            return MaxHeap.sink(arr, left)\n",
    "        \n",
    "        return arr\n",
    "    \n",
    "    @staticmethod\n",
    "    def swim(arr: List[int], i: int) -> List[int]:\n",
    "        parent = (i - 1) // 2\n",
    "        \n",
    "        if parent >= 0 and arr[i] > arr[parent]:\n",
    "            arr[i], arr[parent] = arr[parent], arr[i]\n",
    "            return MaxHeap.swim(arr, parent)\n",
    "        \n",
    "        return arr\n",
    "    \n",
    "    def __str__(self) -> str:\n",
    "        return str(self.arr)\n",
    "    \n",
    "    def __repr__(self) -> str:\n",
    "        return str(self)\n",
    "    \n",
    "    def __len__(self) -> int:\n",
    "        return len(self.arr)"
   ]
  },
  {
   "cell_type": "code",
   "execution_count": 99,
   "metadata": {},
   "outputs": [],
   "source": [
    "class MinHeap:\n",
    "    def __init__(self, arr: List[int] = []):\n",
    "        self.arr = MinHeap.heapify(arr)\n",
    "  \n",
    "    def add(self, v: int) -> None:\n",
    "        self.arr.append(v)\n",
    "        self.arr = MinHeap.swim(self.arr, len(self.arr) - 1)\n",
    "    \n",
    "    def delete(self) -> int:\n",
    "        self.arr[0], self.arr[-1] = self.arr[-1], self.arr[0]\n",
    "        v = self.arr.pop()\n",
    "        self.arr = MinHeap.sink(self.arr, 0)\n",
    "        return v\n",
    "    \n",
    "    def peak(self) -> int:\n",
    "        return self.arr[0]\n",
    "    \n",
    "    @staticmethod\n",
    "    def heapify(arr: List[int]) -> List[int]:\n",
    "        n = len(arr)\n",
    "        for i in range(n - 1, -1, -1):\n",
    "            arr = MinHeap.sink(arr, i)\n",
    "        return arr\n",
    "    \n",
    "    @staticmethod\n",
    "    def sink(arr: List[int], i: int) -> List[int]:\n",
    "        n = len(arr)\n",
    "        left = i * 2 + 1\n",
    "        right = left + 1\n",
    "        \n",
    "        if right < n and arr[left] > arr[right] < arr[i]:\n",
    "            arr[i], arr[right] = arr[right], arr[i]\n",
    "            return MinHeap.sink(arr, right)\n",
    "        \n",
    "        if left < n and arr[left] < arr[i]:\n",
    "            arr[i], arr[left] = arr[left], arr[i]\n",
    "            return MinHeap.sink(arr, left)\n",
    "        \n",
    "        return arr\n",
    "    \n",
    "    @staticmethod\n",
    "    def swim(arr: List[int], i: int) -> List[int]:\n",
    "        parent = (i - 1) // 2\n",
    "        \n",
    "        if parent >= 0 and arr[i] < arr[parent]:\n",
    "            arr[i], arr[parent] = arr[parent], arr[i]\n",
    "            return MinHeap.swim(arr, parent)\n",
    "        \n",
    "        return arr\n",
    "    \n",
    "    def __str__(self) -> str:\n",
    "        return str(self.arr)\n",
    "    \n",
    "    def __repr__(self) -> str:\n",
    "        return str(self)\n",
    "    \n",
    "    def __len__(self) -> int:\n",
    "        return len(self.arr)"
   ]
  },
  {
   "cell_type": "code",
   "execution_count": 100,
   "metadata": {},
   "outputs": [],
   "source": [
    "class Heap:\n",
    "    def __init__(self, arr: List[int] = [], min: bool = True):\n",
    "        self.arr = arr\n",
    "        self.min = min\n",
    "        self.heapify()\n",
    "\n",
    "    def add(self, v: int) -> None:\n",
    "        self.arr.append(v)\n",
    "        self.arr = self.swim(len(self.arr) - 1)\n",
    "\n",
    "    def delete(self) -> int:\n",
    "        self.arr[0], self.arr[-1] = self.arr[-1], self.arr[0]\n",
    "        v = self.arr.pop()\n",
    "        self.sink(0)\n",
    "        return v\n",
    "\n",
    "    def peak(self) -> int:\n",
    "        return self.arr[0]\n",
    "\n",
    "    def heapify(self):\n",
    "        n = len(self.arr)\n",
    "        for i in range(n - 1, -1, -1):\n",
    "            self.sink(i)\n",
    "\n",
    "    def sink(self, i: int) -> None:\n",
    "        n = len(self.arr)\n",
    "        left = i * 2 + 1\n",
    "        right = left + 1\n",
    "\n",
    "        if right < n and (\n",
    "            (self.arr[left] > self.arr[right] < self.arr[i])\n",
    "            if self.min\n",
    "            else (self.arr[left] < self.arr[right] > self.arr[i])\n",
    "        ):\n",
    "            self.arr[i], self.arr[right] = self.arr[right], self.arr[i]\n",
    "            return self.sink(right)\n",
    "        if left < n and (\n",
    "            (self.arr[left] < self.arr[i])\n",
    "            if self.min\n",
    "            else (self.arr[left] > self.arr[i])\n",
    "        ):\n",
    "            self.arr[i], self.arr[left] = self.arr[left], self.arr[i]\n",
    "            return self.sink(left)\n",
    "\n",
    "    def swim(self, i: int) -> None:\n",
    "        parent = (i - 1) // 2\n",
    "\n",
    "        if parent >= 0 and (\n",
    "            (self.arr[i] < self.arr[parent])\n",
    "            if self.min\n",
    "            else (self.arr[i] > self.arr[parent])\n",
    "        ):\n",
    "            self.arr[i], self.arr[parent] = self.arr[parent], self.arr[i]\n",
    "            return self.swim(parent)\n",
    "\n",
    "    def __str__(self) -> str:\n",
    "        return str(self.arr)\n",
    "\n",
    "    def __repr__(self) -> str:\n",
    "        return str(self)\n",
    "\n",
    "    def __len__(self) -> int:\n",
    "        return len(self.arr)"
   ]
  },
  {
   "cell_type": "code",
   "execution_count": 101,
   "metadata": {},
   "outputs": [],
   "source": [
    "def heapsort(arr: List[int], asc: bool = True) -> List[int]:\n",
    "    result = []\n",
    "    h = Heap(arr, asc)\n",
    "    while h:\n",
    "        result.append(h.delete())\n",
    "    return result"
   ]
  },
  {
   "cell_type": "code",
   "execution_count": 102,
   "metadata": {},
   "outputs": [
    {
     "data": {
      "text/plain": [
       "[0, 1, 2, 3, 5, 7, 9]"
      ]
     },
     "execution_count": 102,
     "metadata": {},
     "output_type": "execute_result"
    }
   ],
   "source": [
    "heapsort([3,7,5,1,2,0,9])"
   ]
  },
  {
   "cell_type": "code",
   "execution_count": 103,
   "metadata": {},
   "outputs": [
    {
     "data": {
      "text/plain": [
       "[9, 7, 5, 3, 2, 1, 0]"
      ]
     },
     "execution_count": 103,
     "metadata": {},
     "output_type": "execute_result"
    }
   ],
   "source": [
    "heapsort([3,7,5,1,2,0,9], False)"
   ]
  }
 ],
 "metadata": {
  "kernelspec": {
   "display_name": "Python 3",
   "language": "python",
   "name": "python3"
  },
  "language_info": {
   "codemirror_mode": {
    "name": "ipython",
    "version": 3
   },
   "file_extension": ".py",
   "mimetype": "text/x-python",
   "name": "python",
   "nbconvert_exporter": "python",
   "pygments_lexer": "ipython3",
   "version": "3.8.6"
  }
 },
 "nbformat": 4,
 "nbformat_minor": 4
}
