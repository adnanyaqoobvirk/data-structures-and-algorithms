{
 "cells": [
  {
   "cell_type": "markdown",
   "id": "photographic-commercial",
   "metadata": {},
   "source": [
    "## GCD and LCM"
   ]
  },
  {
   "cell_type": "code",
   "execution_count": 1,
   "id": "crucial-happiness",
   "metadata": {},
   "outputs": [],
   "source": [
    "def gcd_with_subtraction(a, b):\n",
    "    while a != b:\n",
    "        if a < b:\n",
    "            b -= a\n",
    "        else:\n",
    "            a -= b\n",
    "    return a"
   ]
  },
  {
   "cell_type": "code",
   "execution_count": 3,
   "id": "skilled-highlight",
   "metadata": {},
   "outputs": [
    {
     "data": {
      "text/plain": [
       "1"
      ]
     },
     "execution_count": 3,
     "metadata": {},
     "output_type": "execute_result"
    }
   ],
   "source": [
    "gcd_with_subtraction(13, 5)"
   ]
  },
  {
   "cell_type": "code",
   "execution_count": 4,
   "id": "iraqi-gateway",
   "metadata": {},
   "outputs": [],
   "source": [
    "def gcd_with_division(a, b):\n",
    "    while b != 0:\n",
    "        a, b = b, a % b\n",
    "    return a"
   ]
  },
  {
   "cell_type": "code",
   "execution_count": 6,
   "id": "unlimited-hungary",
   "metadata": {},
   "outputs": [
    {
     "data": {
      "text/plain": [
       "6"
      ]
     },
     "execution_count": 6,
     "metadata": {},
     "output_type": "execute_result"
    }
   ],
   "source": [
    "gcd_with_division(12, 6)"
   ]
  },
  {
   "cell_type": "code",
   "execution_count": 7,
   "id": "through-relevance",
   "metadata": {},
   "outputs": [],
   "source": [
    "def gcd_with_recursion(a, b):\n",
    "    if b == 0:\n",
    "        return a\n",
    "    else:\n",
    "        return gcd_with_recursion(b, a % b)"
   ]
  },
  {
   "cell_type": "code",
   "execution_count": 8,
   "id": "hindu-rebate",
   "metadata": {},
   "outputs": [
    {
     "data": {
      "text/plain": [
       "2"
      ]
     },
     "execution_count": 8,
     "metadata": {},
     "output_type": "execute_result"
    }
   ],
   "source": [
    "gcd_with_recursion(14, 12)"
   ]
  },
  {
   "cell_type": "code",
   "execution_count": 12,
   "id": "executive-detection",
   "metadata": {},
   "outputs": [],
   "source": [
    "def lcm(a, b):\n",
    "    return (a * b) // gcd_with_division(a, b)"
   ]
  },
  {
   "cell_type": "code",
   "execution_count": 13,
   "id": "ideal-malawi",
   "metadata": {},
   "outputs": [
    {
     "data": {
      "text/plain": [
       "36"
      ]
     },
     "execution_count": 13,
     "metadata": {},
     "output_type": "execute_result"
    }
   ],
   "source": [
    "lcm(18, 12)"
   ]
  }
 ],
 "metadata": {
  "kernelspec": {
   "display_name": "Python 3",
   "language": "python",
   "name": "python3"
  },
  "language_info": {
   "codemirror_mode": {
    "name": "ipython",
    "version": 3
   },
   "file_extension": ".py",
   "mimetype": "text/x-python",
   "name": "python",
   "nbconvert_exporter": "python",
   "pygments_lexer": "ipython3",
   "version": "3.8.6"
  }
 },
 "nbformat": 4,
 "nbformat_minor": 5
}
