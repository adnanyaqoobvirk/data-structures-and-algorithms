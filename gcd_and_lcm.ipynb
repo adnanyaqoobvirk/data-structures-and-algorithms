{
 "cells": [
  {
   "cell_type": "markdown",
   "id": "subtle-nowhere",
   "metadata": {},
   "source": [
    "## GCD and LCM"
   ]
  },
  {
   "cell_type": "code",
   "execution_count": 1,
   "id": "accurate-vacuum",
   "metadata": {},
   "outputs": [],
   "source": [
    "def gcd_with_subtraction(a, b):\n",
    "    while a != b:\n",
    "        if a < b:\n",
    "            b -= a\n",
    "        else:\n",
    "            a -= b\n",
    "    return a"
   ]
  },
  {
   "cell_type": "code",
   "execution_count": 3,
   "id": "coordinate-treasurer",
   "metadata": {},
   "outputs": [
    {
     "data": {
      "text/plain": [
       "1"
      ]
     },
     "execution_count": 3,
     "metadata": {},
     "output_type": "execute_result"
    }
   ],
   "source": [
    "gcd_with_subtraction(13, 5)"
   ]
  },
  {
   "cell_type": "code",
   "execution_count": 4,
   "id": "authorized-origin",
   "metadata": {},
   "outputs": [],
   "source": [
    "def gcd_with_division(a, b):\n",
    "    while b != 0:\n",
    "        a, b = b, a % b\n",
    "    return a"
   ]
  },
  {
   "cell_type": "code",
   "execution_count": 6,
   "id": "metric-office",
   "metadata": {},
   "outputs": [
    {
     "data": {
      "text/plain": [
       "6"
      ]
     },
     "execution_count": 6,
     "metadata": {},
     "output_type": "execute_result"
    }
   ],
   "source": [
    "gcd_with_division(12, 6)"
   ]
  },
  {
   "cell_type": "code",
   "execution_count": 7,
   "id": "important-addition",
   "metadata": {},
   "outputs": [],
   "source": [
    "def gcd_with_recursion(a, b):\n",
    "    if b == 0:\n",
    "        return a\n",
    "    else:\n",
    "        return gcd_with_recursion(b, a % b)"
   ]
  },
  {
   "cell_type": "code",
   "execution_count": 8,
   "id": "available-specification",
   "metadata": {},
   "outputs": [
    {
     "data": {
      "text/plain": [
       "2"
      ]
     },
     "execution_count": 8,
     "metadata": {},
     "output_type": "execute_result"
    }
   ],
   "source": [
    "gcd_with_recursion(14, 12)"
   ]
  },
  {
   "cell_type": "code",
   "execution_count": 12,
   "id": "cardiovascular-province",
   "metadata": {},
   "outputs": [],
   "source": [
    "def lcm(a, b):\n",
    "    return (a * b) // gcd_with_division(a, b)"
   ]
  },
  {
   "cell_type": "code",
   "execution_count": 13,
   "id": "different-preservation",
   "metadata": {},
   "outputs": [
    {
     "data": {
      "text/plain": [
       "36"
      ]
     },
     "execution_count": 13,
     "metadata": {},
     "output_type": "execute_result"
    }
   ],
   "source": [
    "lcm(18, 12)"
   ]
  },
  {
   "cell_type": "code",
   "execution_count": 17,
   "id": "according-hunter",
   "metadata": {},
   "outputs": [
    {
     "data": {
      "text/plain": [
       "9"
      ]
     },
     "execution_count": 17,
     "metadata": {},
     "output_type": "execute_result"
    }
   ],
   "source": [
    "gcd_with_division(63, 81)"
   ]
  },
  {
   "cell_type": "code",
   "execution_count": 18,
   "id": "indirect-freight",
   "metadata": {},
   "outputs": [
    {
     "data": {
      "text/plain": [
       "42"
      ]
     },
     "execution_count": 18,
     "metadata": {},
     "output_type": "execute_result"
    }
   ],
   "source": [
    "lcm(6,7)"
   ]
  }
 ],
 "metadata": {
  "kernelspec": {
   "display_name": "Python 3",
   "language": "python",
   "name": "python3"
  },
  "language_info": {
   "codemirror_mode": {
    "name": "ipython",
    "version": 3
   },
   "file_extension": ".py",
   "mimetype": "text/x-python",
   "name": "python",
   "nbconvert_exporter": "python",
   "pygments_lexer": "ipython3",
   "version": "3.8.6"
  }
 },
 "nbformat": 4,
 "nbformat_minor": 5
}
