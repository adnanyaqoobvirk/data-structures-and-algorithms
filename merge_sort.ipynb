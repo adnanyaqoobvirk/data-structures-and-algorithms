{
 "cells": [
  {
   "cell_type": "markdown",
   "metadata": {},
   "source": [
    "## Merge Sort"
   ]
  },
  {
   "cell_type": "code",
   "execution_count": 2,
   "metadata": {},
   "outputs": [],
   "source": [
    "from typing import List"
   ]
  },
  {
   "cell_type": "code",
   "execution_count": 16,
   "metadata": {},
   "outputs": [],
   "source": [
    "def merge(left: List[int], right: List[int], asc: bool) -> List[int]:\n",
    "    n, m = len(left), len(right)\n",
    "    merged = []\n",
    "    lp = rp = 0\n",
    "    while lp < n or rp < m:\n",
    "        if lp < n and rp < m:\n",
    "            if (left[lp] < right[rp]) if asc else (left[lp] > right[rp]):\n",
    "                merged.append(left[lp])\n",
    "                lp += 1\n",
    "            else:\n",
    "                merged.append(right[rp])\n",
    "                rp += 1\n",
    "        elif lp < n:\n",
    "            merged.append(left[lp])\n",
    "            lp += 1\n",
    "        else:\n",
    "            merged.append(right[rp])\n",
    "            rp += 1\n",
    "    return merged"
   ]
  },
  {
   "cell_type": "code",
   "execution_count": 17,
   "metadata": {},
   "outputs": [],
   "source": [
    "def merge_sort(arr: List[int], asc: bool = True) -> List[int]:\n",
    "    def sort(left: int, right: int) -> List[int]:\n",
    "        if left == right:\n",
    "            return [arr[left]]\n",
    "        \n",
    "        mid = ((right - left) // 2) + left\n",
    "        return merge(sort(left, mid), sort(mid + 1, right), asc)\n",
    "        \n",
    "    return sort(0, len(arr) - 1)"
   ]
  },
  {
   "cell_type": "code",
   "execution_count": 4,
   "metadata": {},
   "outputs": [
    {
     "data": {
      "text/plain": [
       "[8, 5, 4, 3, 2, 1]"
      ]
     },
     "execution_count": 4,
     "metadata": {},
     "output_type": "execute_result"
    }
   ],
   "source": [
    "merge_sort([3,1,2,8,4,5], False)"
   ]
  },
  {
   "cell_type": "code",
   "execution_count": 5,
   "metadata": {},
   "outputs": [
    {
     "data": {
      "text/plain": [
       "[1, 2, 3, 4, 5, 8]"
      ]
     },
     "execution_count": 5,
     "metadata": {},
     "output_type": "execute_result"
    }
   ],
   "source": [
    "merge_sort([3,1,2,8,4,5])"
   ]
  },
  {
   "cell_type": "code",
   "execution_count": 25,
   "metadata": {},
   "outputs": [],
   "source": [
    "def merge_sort_iterative(arr: List[int], asc: bool = True) -> List[int]:\n",
    "    stack = [(0, len(arr) - 1)]\n",
    "    seen = {}\n",
    "    while stack:\n",
    "        left, right = stack[-1]\n",
    "        if left == right:\n",
    "            stack.pop()\n",
    "            seen[(left, right)] = [arr[left]]\n",
    "        else:\n",
    "            mid = ((right - left) // 2) + left\n",
    "            \n",
    "            if (mid + 1, right) not in seen:\n",
    "                stack.append((mid + 1, right))\n",
    "                \n",
    "            if (left, mid) not in seen:\n",
    "                stack.append((left, mid))\n",
    "\n",
    "            if (left, mid) in seen and (mid + 1, right) in seen:\n",
    "                stack.pop()\n",
    "                seen[(left, right)] = merge(seen[(left, mid)], seen[(mid + 1, right)], asc)\n",
    "    return seen[(0, len(arr) - 1)]"
   ]
  },
  {
   "cell_type": "code",
   "execution_count": 26,
   "metadata": {},
   "outputs": [
    {
     "data": {
      "text/plain": [
       "[1, 2, 3, 4, 5, 8]"
      ]
     },
     "execution_count": 26,
     "metadata": {},
     "output_type": "execute_result"
    }
   ],
   "source": [
    "merge_sort_iterative([3,1,2,8,4,5])"
   ]
  },
  {
   "cell_type": "code",
   "execution_count": 27,
   "metadata": {},
   "outputs": [
    {
     "data": {
      "text/plain": [
       "[8, 5, 4, 3, 2, 1]"
      ]
     },
     "execution_count": 27,
     "metadata": {},
     "output_type": "execute_result"
    }
   ],
   "source": [
    "merge_sort_iterative([3,1,2,8,4,5], False)"
   ]
  }
 ],
 "metadata": {
  "kernelspec": {
   "display_name": "Python 3",
   "language": "python",
   "name": "python3"
  },
  "language_info": {
   "codemirror_mode": {
    "name": "ipython",
    "version": 3
   },
   "file_extension": ".py",
   "mimetype": "text/x-python",
   "name": "python",
   "nbconvert_exporter": "python",
   "pygments_lexer": "ipython3",
   "version": "3.8.6"
  }
 },
 "nbformat": 4,
 "nbformat_minor": 4
}
