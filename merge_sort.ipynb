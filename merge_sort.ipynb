{
 "cells": [
  {
   "cell_type": "markdown",
   "metadata": {},
   "source": [
    "## Merge Sort"
   ]
  },
  {
   "cell_type": "code",
   "execution_count": 2,
   "metadata": {},
   "outputs": [],
   "source": [
    "from typing import List"
   ]
  },
  {
   "cell_type": "code",
   "execution_count": 3,
   "metadata": {},
   "outputs": [],
   "source": [
    "def merge(left: List[int], right: List[int], asc: bool) -> List[int]:\n",
    "    n, m = len(left), len(right)\n",
    "    merged = []\n",
    "    lp = rp = 0\n",
    "    while lp < n or rp < m:\n",
    "        if lp < n and rp < m:\n",
    "            if (left[lp] < right[rp]) if asc else (left[lp] > right[rp]):\n",
    "                merged.append(left[lp])\n",
    "                lp += 1\n",
    "            else:\n",
    "                merged.append(right[rp])\n",
    "                rp += 1\n",
    "        elif lp < n:\n",
    "            merged.append(left[lp])\n",
    "            lp += 1\n",
    "        else:\n",
    "            merged.append(right[rp])\n",
    "            rp += 1\n",
    "    return merged"
   ]
  },
  {
   "cell_type": "code",
   "execution_count": 4,
   "metadata": {},
   "outputs": [],
   "source": [
    "def merge_sort(arr: List[int], asc: bool = True) -> List[int]:\n",
    "    def sort(left: int, right: int) -> List[int]:\n",
    "        if left == right:\n",
    "            return [arr[left]]\n",
    "        \n",
    "        mid = ((right - left) // 2) + left\n",
    "        return merge(sort(left, mid), sort(mid + 1, right), asc)\n",
    "        \n",
    "    return sort(0, len(arr) - 1)"
   ]
  },
  {
   "cell_type": "code",
   "execution_count": 5,
   "metadata": {},
   "outputs": [
    {
     "data": {
      "text/plain": [
       "[8, 5, 4, 3, 2, 1]"
      ]
     },
     "execution_count": 5,
     "metadata": {},
     "output_type": "execute_result"
    }
   ],
   "source": [
    "merge_sort([3,1,2,8,4,5], False)"
   ]
  },
  {
   "cell_type": "code",
   "execution_count": 6,
   "metadata": {},
   "outputs": [
    {
     "data": {
      "text/plain": [
       "[1, 2, 3, 4, 5, 8]"
      ]
     },
     "execution_count": 6,
     "metadata": {},
     "output_type": "execute_result"
    }
   ],
   "source": [
    "merge_sort([3,1,2,8,4,5])"
   ]
  },
  {
   "cell_type": "code",
   "execution_count": 7,
   "metadata": {},
   "outputs": [],
   "source": [
    "def merge_sort_iterative(arr: List[int], asc: bool = True) -> List[int]:\n",
    "    stack = [(0, len(arr) - 1)]\n",
    "    seen = {}\n",
    "    while stack:\n",
    "        left, right = stack[-1]\n",
    "        if left == right:\n",
    "            stack.pop()\n",
    "            seen[(left, right)] = [arr[left]]\n",
    "        else:\n",
    "            mid = ((right - left) // 2) + left\n",
    "            \n",
    "            if (mid + 1, right) not in seen:\n",
    "                stack.append((mid + 1, right))\n",
    "                \n",
    "            if (left, mid) not in seen:\n",
    "                stack.append((left, mid))\n",
    "\n",
    "            if (left, mid) in seen and (mid + 1, right) in seen:\n",
    "                stack.pop()\n",
    "                seen[(left, right)] = merge(seen[(left, mid)], seen[(mid + 1, right)], asc)\n",
    "                del seen[(left, mid)]\n",
    "                del seen[(mid + 1, right)]\n",
    "    return seen[(0, len(arr) - 1)]"
   ]
  },
  {
   "cell_type": "code",
   "execution_count": 8,
   "metadata": {},
   "outputs": [
    {
     "data": {
      "text/plain": [
       "[1, 2, 3, 4, 5, 8]"
      ]
     },
     "execution_count": 8,
     "metadata": {},
     "output_type": "execute_result"
    }
   ],
   "source": [
    "merge_sort_iterative([3,1,2,8,4,5])"
   ]
  },
  {
   "cell_type": "code",
   "execution_count": 9,
   "metadata": {},
   "outputs": [
    {
     "data": {
      "text/plain": [
       "[8, 5, 4, 3, 2, 1]"
      ]
     },
     "execution_count": 9,
     "metadata": {},
     "output_type": "execute_result"
    }
   ],
   "source": [
    "merge_sort_iterative([3,1,2,8,4,5], False)"
   ]
  },
  {
   "cell_type": "code",
   "execution_count": 10,
   "metadata": {},
   "outputs": [],
   "source": [
    "class Node:\n",
    "    def __init__(self, val: int, next: \"Node\" = None):\n",
    "        self.val = val\n",
    "        self.next = next\n",
    "    \n",
    "    def __str__(self) -> str:\n",
    "        next = self\n",
    "        result = []\n",
    "        while next:\n",
    "            result.append(next.val)\n",
    "            next = next.next\n",
    "        return str(result)\n",
    "    \n",
    "    def __repr__(self) -> str:\n",
    "        return str(self)"
   ]
  },
  {
   "cell_type": "code",
   "execution_count": 11,
   "metadata": {},
   "outputs": [],
   "source": [
    "def merge_linked_list(left: Node, right: Node, asc: bool) -> Node:\n",
    "    if not left:\n",
    "        return right\n",
    "    \n",
    "    if not right:\n",
    "        return left\n",
    "    \n",
    "    if (left.val > right.val) if asc else (left.val < right.val):\n",
    "        right.next = merge_linked_list(left, right.next, asc)\n",
    "        return right\n",
    "    \n",
    "    left.next = merge_linked_list(left.next, right, asc)\n",
    "    return left"
   ]
  },
  {
   "cell_type": "code",
   "execution_count": 12,
   "metadata": {},
   "outputs": [
    {
     "data": {
      "text/plain": [
       "[6, 5, 4, 3, 2, 1]"
      ]
     },
     "execution_count": 12,
     "metadata": {},
     "output_type": "execute_result"
    }
   ],
   "source": [
    "merge_linked_list(Node(5, Node(3, Node(2))), Node(6, Node(4, Node(1))), False)"
   ]
  },
  {
   "cell_type": "code",
   "execution_count": 13,
   "metadata": {},
   "outputs": [],
   "source": [
    "def merge_sort_linked_list(current: Node, n: int, asc: bool = True) -> Node:\n",
    "    if n < 1:\n",
    "        return None\n",
    "    \n",
    "    if n == 1:\n",
    "        current.next = None\n",
    "        return current\n",
    "    \n",
    "    mid = n // 2\n",
    "    right = current\n",
    "    count = 0\n",
    "    while count < mid:\n",
    "        right = right.next\n",
    "        count += 1\n",
    "    \n",
    "    return merge_linked_list(\n",
    "        merge_sort_linked_list(current, count, asc), \n",
    "        merge_sort_linked_list(right, n - count, asc),\n",
    "        asc\n",
    "    )"
   ]
  },
  {
   "cell_type": "code",
   "execution_count": 14,
   "metadata": {},
   "outputs": [
    {
     "data": {
      "text/plain": [
       "[0, 1, 2, 3, 4, 7, 9]"
      ]
     },
     "execution_count": 14,
     "metadata": {},
     "output_type": "execute_result"
    }
   ],
   "source": [
    "merge_sort_linked_list(Node(3, Node(1, Node(7, Node(4, Node(9, Node(0, Node(2))))))), 7, True)"
   ]
  },
  {
   "cell_type": "code",
   "execution_count": 29,
   "metadata": {},
   "outputs": [],
   "source": [
    "def merge_linked_list_iterative(left: Node, right: Node, asc: bool = True) -> Node:\n",
    "        current = sentinal = Node(None)\n",
    "        while True:\n",
    "            if not left:\n",
    "                current.next = right\n",
    "                break\n",
    "            \n",
    "            if not right:\n",
    "                current.next = left\n",
    "                break\n",
    "                \n",
    "            if (left.val < right.val) if asc else (left.val > right.val):\n",
    "                current.next = left\n",
    "                left = left.next\n",
    "            else:\n",
    "                current.next = right\n",
    "                right = right.next\n",
    "            \n",
    "            current = current.next\n",
    "        return sentinal.next"
   ]
  },
  {
   "cell_type": "code",
   "execution_count": 36,
   "metadata": {},
   "outputs": [],
   "source": [
    "def merge_sort_linked_list(head: Node, asc: bool = True) -> Node:\n",
    "        if not head:\n",
    "            return None\n",
    "        elif not head.next:\n",
    "            return head\n",
    "        \n",
    "        slow = fast = head\n",
    "        while fast.next:\n",
    "            fast = fast.next.next\n",
    "            if not fast:\n",
    "                break\n",
    "            slow = slow.next\n",
    "        \n",
    "        right = merge_sort_linked_list(slow.next, asc)\n",
    "        slow.next = None\n",
    "        left = merge_sort_linked_list(head, asc)\n",
    "        \n",
    "        return merge_linked_list_iterative(left, right, asc)"
   ]
  },
  {
   "cell_type": "code",
   "execution_count": 37,
   "metadata": {},
   "outputs": [
    {
     "data": {
      "text/plain": [
       "[9, 7, 4, 3, 2, 1, 0]"
      ]
     },
     "execution_count": 37,
     "metadata": {},
     "output_type": "execute_result"
    }
   ],
   "source": [
    "merge_sort_linked_list(Node(3, Node(1, Node(7, Node(4, Node(9, Node(0, Node(2))))))), False)"
   ]
  },
  {
   "cell_type": "code",
   "execution_count": 38,
   "metadata": {},
   "outputs": [
    {
     "data": {
      "text/plain": [
       "[0, 1, 2, 3, 4, 7, 9]"
      ]
     },
     "execution_count": 38,
     "metadata": {},
     "output_type": "execute_result"
    }
   ],
   "source": [
    "merge_sort_linked_list(Node(3, Node(1, Node(7, Node(4, Node(9, Node(0, Node(2))))))))"
   ]
  }
 ],
 "metadata": {
  "kernelspec": {
   "display_name": "Python 3",
   "language": "python",
   "name": "python3"
  },
  "language_info": {
   "codemirror_mode": {
    "name": "ipython",
    "version": 3
   },
   "file_extension": ".py",
   "mimetype": "text/x-python",
   "name": "python",
   "nbconvert_exporter": "python",
   "pygments_lexer": "ipython3",
   "version": "3.8.6"
  }
 },
 "nbformat": 4,
 "nbformat_minor": 4
}
