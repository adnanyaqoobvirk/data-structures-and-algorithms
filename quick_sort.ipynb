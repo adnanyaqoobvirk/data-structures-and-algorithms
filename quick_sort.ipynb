{
 "cells": [
  {
   "cell_type": "markdown",
   "metadata": {},
   "source": [
    "## Quick Sort"
   ]
  },
  {
   "cell_type": "code",
   "execution_count": 154,
   "metadata": {},
   "outputs": [],
   "source": [
    "from typing import List\n",
    "from random import randint, sample"
   ]
  },
  {
   "cell_type": "code",
   "execution_count": 160,
   "metadata": {},
   "outputs": [],
   "source": [
    "def quick_sort(arr: List[int], i: int = 0, j: int = None) -> List[int]:\n",
    "    def partition(left: int, pivot: int, right: int) -> int:\n",
    "        while left <= right:\n",
    "            if arr[left] > arr[pivot] and arr[right] <= arr[pivot]:\n",
    "                arr[left], arr[right] = arr[right], arr[left]\n",
    "            else:\n",
    "                if arr[left] <= arr[pivot]:\n",
    "                    left += 1\n",
    "            \n",
    "                if arr[right] > arr[pivot]:\n",
    "                    right -= 1\n",
    "        \n",
    "        arr[pivot], arr[right] = arr[right], arr[pivot]\n",
    "        return right\n",
    "    \n",
    "    j = j if j != None else len(arr) - 1\n",
    "    if i < j:\n",
    "        pivot = partition(i, (j - i) // 2 + i, j)\n",
    "        quick_sort(arr, i, pivot - 1)\n",
    "        quick_sort(arr, pivot + 1, j)\n",
    "        \n",
    "    return arr"
   ]
  },
  {
   "cell_type": "code",
   "execution_count": 161,
   "metadata": {},
   "outputs": [
    {
     "data": {
      "text/plain": [
       "[3, 11, 23, 25, 27, 33, 64, 71, 79, 89]"
      ]
     },
     "execution_count": 161,
     "metadata": {},
     "output_type": "execute_result"
    }
   ],
   "source": [
    "quick_sort(list(sample(range(0,100), 10)))"
   ]
  }
 ],
 "metadata": {
  "kernelspec": {
   "display_name": "Python 3",
   "language": "python",
   "name": "python3"
  },
  "language_info": {
   "codemirror_mode": {
    "name": "ipython",
    "version": 3
   },
   "file_extension": ".py",
   "mimetype": "text/x-python",
   "name": "python",
   "nbconvert_exporter": "python",
   "pygments_lexer": "ipython3",
   "version": "3.8.6"
  }
 },
 "nbformat": 4,
 "nbformat_minor": 4
}
