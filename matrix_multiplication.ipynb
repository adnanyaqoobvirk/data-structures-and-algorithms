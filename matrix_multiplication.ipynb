{
 "cells": [
  {
   "cell_type": "markdown",
   "metadata": {},
   "source": [
    "## Matrix Multiplication"
   ]
  },
  {
   "cell_type": "code",
   "execution_count": 51,
   "metadata": {},
   "outputs": [],
   "source": [
    "from typing import List"
   ]
  },
  {
   "cell_type": "code",
   "execution_count": 52,
   "metadata": {},
   "outputs": [],
   "source": [
    "def matrix_multiplication(A: List[List[int]], B: List[List[int]]) -> List[List[int]]:\n",
    "    if len(A) != len(B[0]) and len(B) != len(A[0]):\n",
    "        return []\n",
    "    \n",
    "    output = []\n",
    "    for i in range(len(A)):\n",
    "        row_o = []\n",
    "        for j in range(len(B[0])):\n",
    "            total = 0\n",
    "            for k in range(len(A[0])):\n",
    "                total += A[i][k] * B[k][j]\n",
    "            row_o.append(total)\n",
    "        output.append(row_o)\n",
    "    return output"
   ]
  },
  {
   "cell_type": "code",
   "execution_count": 53,
   "metadata": {},
   "outputs": [
    {
     "data": {
      "text/plain": [
       "[[14, 21], [9, 13]]"
      ]
     },
     "execution_count": 53,
     "metadata": {},
     "output_type": "execute_result"
    }
   ],
   "source": [
    "matrix_multiplication([[2, 3], [1, 2]], [[1, 3],[4, 5]])"
   ]
  },
  {
   "cell_type": "code",
   "execution_count": 54,
   "metadata": {},
   "outputs": [],
   "source": [
    "def matrix_sum(A, B):\n",
    "    if len(A) != len(B):\n",
    "        return []\n",
    "    \n",
    "    output = []\n",
    "    for i in range(len(A)):\n",
    "        row_o = []\n",
    "        for j in range(len(A[0])):\n",
    "            row_o.append(A[i][j] + B[i][j])\n",
    "        output.append(row_o)\n",
    "    return output"
   ]
  },
  {
   "cell_type": "code",
   "execution_count": 55,
   "metadata": {},
   "outputs": [
    {
     "data": {
      "text/plain": [
       "[[3, 6], [8, 5]]"
      ]
     },
     "execution_count": 55,
     "metadata": {},
     "output_type": "execute_result"
    }
   ],
   "source": [
    "matrix_sum([[1, 2], [3, 1]], [[2, 4], [5, 4]])"
   ]
  },
  {
   "cell_type": "code",
   "execution_count": 56,
   "metadata": {},
   "outputs": [],
   "source": [
    "def matrix_combine(top_left, top_right, bottom_left, bottom_right):\n",
    "    n = len(top_left)\n",
    "    if len(top_right) != n or len(bottom_left) != n or len(bottom_right) != n:\n",
    "        return []\n",
    "    \n",
    "    output = []\n",
    "    for i in range(n):\n",
    "        output.append(top_left[i] + top_right[i])\n",
    "    \n",
    "    for i in range(n):\n",
    "        output.append(bottom_left[i] + bottom_right[i])\n",
    "    \n",
    "    return output"
   ]
  },
  {
   "cell_type": "code",
   "execution_count": 57,
   "metadata": {},
   "outputs": [
    {
     "data": {
      "text/plain": [
       "[[1, 2, 2, 1], [3, 4, 5, 1], [3, 2, 4, 1], [7, 6, 0, 4]]"
      ]
     },
     "execution_count": 57,
     "metadata": {},
     "output_type": "execute_result"
    }
   ],
   "source": [
    "matrix_combine([[1, 2], [3, 4]], [[2, 1],[5, 1]], [[3, 2], [7, 6]], [[4, 1], [0, 4]])"
   ]
  },
  {
   "cell_type": "code",
   "execution_count": 58,
   "metadata": {},
   "outputs": [],
   "source": [
    "def matrix_multiplication_recurse(A, B):\n",
    "    if len(A) == 1:\n",
    "        return [[A[0][0]] * B[0][0]]\n",
    "    elif len(A) == 2:\n",
    "        return [\n",
    "            [\n",
    "                A[0][0] * B[0][0] + A[0][1] * B[1][0], \n",
    "                A[0][0] * B[0][1] + A[0][1] * B[0][1]],\n",
    "            [\n",
    "                A[1][0] * B[0][0] + A[1][1] * B[1][0],\n",
    "                A[1][0] * B[0][1] + A[1][1] * B[0][1]\n",
    "            ]\n",
    "        ]\n",
    "    else:\n",
    "        mid = len(A) // 2\n",
    "        return matrix_combine(\n",
    "            matrix_sum(\n",
    "                matrix_multiplication_recurse([row[:mid] for row in A[:mid]], [row[:mid] for row in B[:mid]]),\n",
    "                matrix_multiplication_recurse([row[mid:] for row in A[:mid]], [row[:mid] for row in B[mid:]])\n",
    "            ),\n",
    "            matrix_sum(\n",
    "                matrix_multiplication_recurse([row[:mid] for row in A[:mid]], [row[mid:] for row in B[:mid]]),\n",
    "                matrix_multiplication_recurse([row[mid:] for row in A[:mid]], [row[mid:] for row in B[mid:]])\n",
    "            ),\n",
    "            matrix_sum(\n",
    "                matrix_multiplication_recurse([row[:mid] for row in A[mid:]], [row[:mid] for row in B[:mid]]),\n",
    "                matrix_multiplication_recurse([row[mid:] for row in A[mid:]], [row[:mid] for row in B[mid:]])\n",
    "            ),\n",
    "            matrix_sum(\n",
    "                matrix_multiplication_recurse([row[:mid] for row in A[mid:]], [row[mid:] for row in B[:mid]]),\n",
    "                matrix_multiplication_recurse([row[mid:] for row in A[mid:]], [row[mid:] for row in B[mid:]])\n",
    "            )\n",
    "        )"
   ]
  },
  {
   "cell_type": "code",
   "execution_count": 59,
   "metadata": {},
   "outputs": [
    {
     "data": {
      "text/plain": [
       "[[40, 30, 20, 10], [40, 30, 20, 10], [40, 30, 20, 10], [40, 30, 20, 10]]"
      ]
     },
     "execution_count": 59,
     "metadata": {},
     "output_type": "execute_result"
    }
   ],
   "source": [
    "matrix_multiplication_recurse([[1,2,3,4], [1,2,3,4], [1,2,3,4], [1,2,3,4]], [[4,3,2,1],[4,3,2,1],[4,3,2,1],[4,3,2,1]])"
   ]
  },
  {
   "cell_type": "code",
   "execution_count": 60,
   "metadata": {},
   "outputs": [
    {
     "data": {
      "text/plain": [
       "[[12, 9], [12, 9]]"
      ]
     },
     "execution_count": 60,
     "metadata": {},
     "output_type": "execute_result"
    }
   ],
   "source": [
    "matrix_multiplication_recurse([[1,2], [1,2]], [[4,3],[4,3]])"
   ]
  }
 ],
 "metadata": {
  "kernelspec": {
   "display_name": "Python 3",
   "language": "python",
   "name": "python3"
  },
  "language_info": {
   "codemirror_mode": {
    "name": "ipython",
    "version": 3
   },
   "file_extension": ".py",
   "mimetype": "text/x-python",
   "name": "python",
   "nbconvert_exporter": "python",
   "pygments_lexer": "ipython3",
   "version": "3.8.6"
  }
 },
 "nbformat": 4,
 "nbformat_minor": 4
}
