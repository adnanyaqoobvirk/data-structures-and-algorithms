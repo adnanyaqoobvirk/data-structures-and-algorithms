{
 "cells": [
  {
   "cell_type": "markdown",
   "metadata": {},
   "source": [
    "## Insertion Sort"
   ]
  },
  {
   "cell_type": "code",
   "execution_count": 1,
   "metadata": {},
   "outputs": [],
   "source": [
    "from typing import List"
   ]
  },
  {
   "cell_type": "code",
   "execution_count": 2,
   "metadata": {},
   "outputs": [],
   "source": [
    "def insertion_sort(arr: List[int], asc: bool = True) -> List[int]:\n",
    "    n = len(arr)\n",
    "    for i in range(1, n):\n",
    "        selected = arr[i]\n",
    "        j = i - 1\n",
    "        while j > -1 and ((selected < arr[j]) if asc else (selected > arr[j])):\n",
    "            arr[j + 1] = arr[j]\n",
    "            j -= 1\n",
    "        arr[j + 1] = selected\n",
    "    return arr"
   ]
  },
  {
   "cell_type": "code",
   "execution_count": 3,
   "metadata": {},
   "outputs": [
    {
     "data": {
      "text/plain": [
       "[1, 2, 4, 5, 7, 8]"
      ]
     },
     "execution_count": 3,
     "metadata": {},
     "output_type": "execute_result"
    }
   ],
   "source": [
    "insertion_sort([5,1,2,7,8,4])"
   ]
  },
  {
   "cell_type": "code",
   "execution_count": 4,
   "metadata": {},
   "outputs": [
    {
     "data": {
      "text/plain": [
       "[8, 7, 5, 4, 2, 1]"
      ]
     },
     "execution_count": 4,
     "metadata": {},
     "output_type": "execute_result"
    }
   ],
   "source": [
    "insertion_sort([5,1,2,7,8,4], False)"
   ]
  },
  {
   "cell_type": "code",
   "execution_count": 5,
   "metadata": {},
   "outputs": [],
   "source": [
    "class Node:\n",
    "    def __init__(self, val: int, next: \"Node\" = None):\n",
    "        self.val = val\n",
    "        self.next = next\n",
    "    \n",
    "    def __str__(self) -> str:\n",
    "        next = self\n",
    "        result = []\n",
    "        while next:\n",
    "            result.append(next.val)\n",
    "            next = next.next\n",
    "        return str(result)\n",
    "    \n",
    "    def __repr__(self) -> str:\n",
    "        return str(self)"
   ]
  },
  {
   "cell_type": "code",
   "execution_count": 10,
   "metadata": {},
   "outputs": [],
   "source": [
    "def insertion_sort_linked_list(head: Node, asc: bool = True) -> Node:\n",
    "    if not head:\n",
    "        return None\n",
    "\n",
    "    sorted = Node(None, Node(head.val))\n",
    "    current = head.next\n",
    "    while current:\n",
    "        sorted_current = sorted\n",
    "        while True:\n",
    "            if not sorted_current.next or ((current.val < sorted_current.next.val) if asc else (current.val > sorted_current.next.val)):\n",
    "                sorted_current.next = Node(current.val, sorted_current.next)\n",
    "                break\n",
    "            sorted_current = sorted_current.next\n",
    "        current = current.next\n",
    "    return sorted.next"
   ]
  },
  {
   "cell_type": "code",
   "execution_count": 11,
   "metadata": {},
   "outputs": [
    {
     "data": {
      "text/plain": [
       "[0, 1, 2, 3, 4, 7, 9]"
      ]
     },
     "execution_count": 11,
     "metadata": {},
     "output_type": "execute_result"
    }
   ],
   "source": [
    "insertion_sort_linked_list(Node(3, Node(1, Node(7, Node(4, Node(9, Node(0, Node(2))))))))"
   ]
  },
  {
   "cell_type": "code",
   "execution_count": 12,
   "metadata": {},
   "outputs": [
    {
     "data": {
      "text/plain": [
       "[9, 7, 4, 3, 2, 1, 0]"
      ]
     },
     "execution_count": 12,
     "metadata": {},
     "output_type": "execute_result"
    }
   ],
   "source": [
    "insertion_sort_linked_list(Node(3, Node(1, Node(7, Node(4, Node(9, Node(0, Node(2))))))), False)"
   ]
  }
 ],
 "metadata": {
  "kernelspec": {
   "display_name": "Python 3",
   "language": "python",
   "name": "python3"
  },
  "language_info": {
   "codemirror_mode": {
    "name": "ipython",
    "version": 3
   },
   "file_extension": ".py",
   "mimetype": "text/x-python",
   "name": "python",
   "nbconvert_exporter": "python",
   "pygments_lexer": "ipython3",
   "version": "3.8.6"
  }
 },
 "nbformat": 4,
 "nbformat_minor": 4
}
